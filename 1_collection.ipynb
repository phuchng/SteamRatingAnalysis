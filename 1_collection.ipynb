{
 "cells": [
  {
   "cell_type": "markdown",
   "metadata": {},
   "source": [
    "## 1. Data Collection\n",
    "\n",
    "\n",
    "### Import neccessary libraries"
   ]
  },
  {
   "cell_type": "code",
   "execution_count": null,
   "metadata": {},
   "outputs": [],
   "source": [
    "import pandas as pd\n",
    "import numpy as np\n",
    "=import re\n",
    "import time\n",
    "import asyncio\n",
    "import json\n",
    "from typing import List, Dict\n",
    "import requests\n",
    "import aiohttp  # Async HTTP requests\n",
    "import nest_asyncio # Nested async loops in Jupyter"
   ]
  },
  {
   "cell_type": "markdown",
   "metadata": {},
   "source": [
    "\n",
    "### 1.1 SteamSpy API Data collection and processing\n",
    "\n",
    "Since the official steam API returns all applications, not just games, and don't filter for spam apps, we will use SteamSpy as an alternative to get a quality list of games and information not found on the official API.\n"
   ]
  },
  {
   "cell_type": "code",
   "execution_count": null,
   "metadata": {},
   "outputs": [],
   "source": [
    "nest_asyncio.apply()\n",
    "\n",
    "async def fetch_steamspy_page(session, page):\n",
    "    # Fetch data from a single SteamSpy page\n",
    "    base_url = 'https://steamspy.com/api.php'\n",
    "    params = {'request': 'all', 'page': page}\n",
    "    try:\n",
    "        async with session.get(base_url, params=params) as response:\n",
    "            if response.status == 200:\n",
    "                return list((await response.json()).values())\n",
    "            else:\n",
    "                print(f\"SteamSpy API error on page {page}: HTTP {response.status}\")\n",
    "                return []\n",
    "    except Exception as e:\n",
    "        print(f\"SteamSpy API exception on page {page}: {e}\")\n",
    "        return []\n",
    "\n",
    "async def fetch_all_steamspy_data(max_pages):\n",
    "    # Fetch data from multiple SteamSpy pages asynchronously for better runtime\n",
    "    async with aiohttp.ClientSession() as session:\n",
    "        tasks = [fetch_steamspy_page(session, page) for page in range(max_pages)]\n",
    "        start_time = time.time()\n",
    "        results = await asyncio.gather(*tasks)\n",
    "        end_time = time.time()\n",
    "        all_games = [game for page_games in results for game in page_games]\n",
    "        print(f\"Fetched {len(all_games)} games from SteamSpy in {end_time - start_time:.2f} seconds\")\n",
    "        return pd.DataFrame(all_games)\n",
    "\n",
    "def get_steamspy_data(max_pages):\n",
    "    # Manage asyncio event loop and call the fetch all function\n",
    "    try:\n",
    "        loop = asyncio.get_event_loop()\n",
    "    except RuntimeError:\n",
    "        loop = asyncio.new_event_loop()\n",
    "        asyncio.set_event_loop(loop)\n",
    "    return loop.run_until_complete(fetch_all_steamspy_data(max_pages))\n",
    "\n",
    "# max_pages_steamspy = 10 # 1000 games per page\n",
    "# steamspy_df = get_steamspy_data(max_pages_steamspy)\n",
    "# steamspy_df.to_csv('data/steamspy_data.csv', index=False)\n",
    "# print(\"Saved steamspy_data.csv\")"
   ]
  },
  {
   "cell_type": "markdown",
   "metadata": {},
   "source": [
    "### 1.2 Steam API Data Collection and Processing\n",
    "\n",
    "Since most Vietnamese ISPs blocked Steam DNS, a VPN is required to scrape data from Steam."
   ]
  },
  {
   "cell_type": "code",
   "execution_count": null,
   "metadata": {},
   "outputs": [],
   "source": [
    "def fetch_steam_store_app_details(app_id):\n",
    "    # Fetch app details from Steam Store API\n",
    "    url = f\"https://store.steampowered.com/api/appdetails?appids={app_id}\"\n",
    "    try:\n",
    "        response = requests.get(url)\n",
    "        response.raise_for_status()\n",
    "        data = response.json()[str(app_id)]\n",
    "        if data.get('success') and 'data' in data:\n",
    "            return data['data']\n",
    "        else:\n",
    "            print(f\"No data found for app ID {app_id} in Steam Store. Details: {data}\")\n",
    "            return None\n",
    "    except requests.exceptions.RequestException as e:\n",
    "        print(f\"Steam Store API error for app ID {app_id}: {e}\")\n",
    "        return None\n",
    "\n",
    "def fetch_all_steam_store_data(app_ids):\n",
    "    # Fetch data for multiple apps from Steam Store API\n",
    "    steamstore_data = []\n",
    "    total_apps = len(app_ids)\n",
    "    for i, app_id in enumerate(app_ids):\n",
    "        data = get_steam_store_app_details(app_id)\n",
    "        if data:\n",
    "            steamstore_data.append({\n",
    "                'appid': data.get('steam_appid'),\n",
    "                'name': data.get('name'),\n",
    "                'languages': data.get('supported_languages'),\n",
    "                'metacritic': data.get('metacritic'),\n",
    "                'genres': data.get('genres')\n",
    "            })\n",
    "        if (i + 1) % 100 == 0 or (i + 1) == total_apps:\n",
    "            print(f\"\\rProcessed {i + 1}/{total_apps} games from Steam Store\", end=\"\", flush=True)\n",
    "        time.sleep(1.5)  # API rate limits\n",
    "    print() \n",
    "    return pd.DataFrame(steamstore_data)\n",
    "\n",
    "#app_ids = steamspy_df['appid'].tolist()\n",
    "\n",
    "# Because of Steam rate limits, 10000 games take 4 hours to fetch so function call is commented out\n",
    "\n",
    "# steamstore_df = get_all_steam_store_data(app_ids)\n",
    "# steamstore_df.to_csv(\"data/steamstore_data.csv\", index=False)\n",
    "# print(\"Saved steamstore_data.csv\")"
   ]
  }
 ],
 "metadata": {
  "kernelspec": {
   "display_name": "ml-env",
   "language": "python",
   "name": "python3"
  },
  "language_info": {
   "codemirror_mode": {
    "name": "ipython",
    "version": 3
   },
   "file_extension": ".py",
   "mimetype": "text/x-python",
   "name": "python",
   "nbconvert_exporter": "python",
   "pygments_lexer": "ipython3",
   "version": "3.11.7"
  }
 },
 "nbformat": 4,
 "nbformat_minor": 2
}
