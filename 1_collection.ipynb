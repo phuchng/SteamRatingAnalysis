{
 "cells": [
  {
   "cell_type": "markdown",
   "metadata": {},
   "source": [
    "## 1. Data Collection\n",
    "\n",
    "\n",
    "### Import neccessary libraries"
   ]
  },
  {
   "cell_type": "code",
   "execution_count": 21,
   "metadata": {},
   "outputs": [],
   "source": [
    "import pandas as pd\n",
    "import numpy as np\n",
    "import re\n",
    "import time\n",
    "import asyncio\n",
    "import json\n",
    "import os\n",
    "from typing import Optional, Dict, Any, List\n",
    "import requests\n",
    "import aiohttp  # Async HTTP requests\n",
    "import nest_asyncio # Nested async loops in Jupyter"
   ]
  },
  {
   "cell_type": "markdown",
   "metadata": {},
   "source": [
    "\n",
    "### 1.1 SteamSpy API Data collection and processing\n",
    "\n",
    "Since the official steam API returns all applications, not just games, and don't filter for spam apps, we will use SteamSpy as an alternative to get a quality list of games and information not found on the official API.\n"
   ]
  },
  {
   "cell_type": "code",
   "execution_count": 30,
   "metadata": {},
   "outputs": [
    {
     "name": "stdout",
     "output_type": "stream",
     "text": [
      "Fetched 21000 games from SteamSpy in 6.00 seconds\n",
      "Saved steamspy_data.csv\n"
     ]
    }
   ],
   "source": [
    "nest_asyncio.apply()\n",
    "\n",
    "async def fetch_steamspy_page(session, page):\n",
    "    # Fetch data from a single SteamSpy page\n",
    "    base_url = 'https://steamspy.com/api.php'\n",
    "    params = {'request': 'all', 'page': page}\n",
    "    try:\n",
    "        async with session.get(base_url, params=params) as response:\n",
    "            if response.status == 200:\n",
    "                return list((await response.json()).values())\n",
    "            else:\n",
    "                print(f\"SteamSpy API error on page {page}: HTTP {response.status}\")\n",
    "                return []\n",
    "    except Exception as e:\n",
    "        print(f\"SteamSpy API exception on page {page}: {e}\")\n",
    "        return []\n",
    "\n",
    "async def fetch_all_steamspy_data(max_pages):\n",
    "    # Fetch data from multiple SteamSpy pages asynchronously for better runtime\n",
    "    async with aiohttp.ClientSession() as session:\n",
    "        tasks = [fetch_steamspy_page(session, page) for page in range(max_pages)]\n",
    "        start_time = time.time()\n",
    "        results = await asyncio.gather(*tasks)\n",
    "        end_time = time.time()\n",
    "        all_games = [game for page_games in results for game in page_games]\n",
    "        print(f\"Fetched {len(all_games)} games from SteamSpy in {end_time - start_time:.2f} seconds\")\n",
    "        return pd.DataFrame(all_games)\n",
    "\n",
    "def get_steamspy_data(max_pages):\n",
    "    # Manage asyncio event loop and call the fetch all function\n",
    "    try:\n",
    "        loop = asyncio.get_event_loop()\n",
    "    except RuntimeError:\n",
    "        loop = asyncio.new_event_loop()\n",
    "        asyncio.set_event_loop(loop)\n",
    "    return loop.run_until_complete(fetch_all_steamspy_data(max_pages))\n",
    "\n",
    "max_pages_steamspy = 21 # 1000 games per page\n",
    "steamspy_df = get_steamspy_data(max_pages_steamspy)\n",
    "steamspy_df.to_csv('data/steamspy_data.csv', index=False)\n",
    "print(\"Saved steamspy_data.csv\")"
   ]
  },
  {
   "cell_type": "markdown",
   "metadata": {},
   "source": [
    "### 1.2 Steam API Data Collection and Processing\n",
    "\n",
    "Since most Vietnamese ISPs blocked Steam DNS, a VPN is required to scrape data from Steam."
   ]
  },
  {
   "cell_type": "code",
   "execution_count": 28,
   "metadata": {},
   "outputs": [
    {
     "name": "stdout",
     "output_type": "stream",
     "text": [
      "Loaded 9141 unique apps from existing file.\n",
      "Processing 10371 remaining apps...\n",
      "Processed 4500/10371 remaining games. Total unique games: 13557Steam Store API error for app ID 2084940: 502 Server Error: Bad Gateway for url: https://store.steampowered.com/api/appdetails?appids=2084940\n",
      "Steam Store API error for app ID 610380: 502 Server Error: Bad Gateway for url: https://store.steampowered.com/api/appdetails?appids=610380\n",
      "Steam Store API error for app ID 446540: 502 Server Error: Bad Gateway for url: https://store.steampowered.com/api/appdetails?appids=446540\n",
      "Steam Store API error for app ID 512080: 502 Server Error: Bad Gateway for url: https://store.steampowered.com/api/appdetails?appids=512080\n",
      "Processed 10371/10371 remaining games. Total unique games: 19382\n",
      "Data collection completed.\n",
      "Saved steamstore_data.csv\n"
     ]
    }
   ],
   "source": [
    "def fetch_steam_store_app_details(app_id):\n",
    "    url = f\"https://store.steampowered.com/api/appdetails?appids={app_id}\"\n",
    "    try:\n",
    "        response = requests.get(url)  # Added timeout\n",
    "        response.raise_for_status()\n",
    "        data = response.json()[str(app_id)]\n",
    "        return data['data'] if data.get('success') and 'data' in data else None\n",
    "    except (requests.exceptions.RequestException, KeyError, ValueError) as e:\n",
    "        print(f\"Steam Store API error for app ID {app_id}: {e}\")\n",
    "        return None\n",
    "\n",
    "def fetch_all_steam_store_data(app_ids, output_filename=\"data/steamstore_data.csv\", save_interval=100):\n",
    "    os.makedirs(os.path.dirname(output_filename), exist_ok=True)\n",
    "    \n",
    "    unique_app_ids = set(app_ids)\n",
    "    processed_app_ids = set()\n",
    "    steamstore_data = []\n",
    "    \n",
    "    try:\n",
    "        existing_df = pd.read_csv(output_filename)\n",
    "        # Remove duplicates from existing data\n",
    "        existing_df = existing_df.drop_duplicates(subset=['appid'], keep='last')\n",
    "        processed_app_ids = set(existing_df['appid'].tolist())\n",
    "        steamstore_data = existing_df.to_dict('records')\n",
    "        print(f\"Loaded {len(processed_app_ids)} unique apps from existing file.\")\n",
    "    except FileNotFoundError:\n",
    "        print(\"Starting new data collection.\")\n",
    "    \n",
    "    # Calculate remaining apps to process\n",
    "    remaining_app_ids = unique_app_ids - processed_app_ids\n",
    "    total_remaining = len(remaining_app_ids)\n",
    "    \n",
    "    if total_remaining == 0:\n",
    "        print(\"All apps already processed.\")\n",
    "        return pd.DataFrame(steamstore_data)\n",
    "    \n",
    "    print(f\"Processing {total_remaining} remaining apps...\")\n",
    "    \n",
    "    last_request_time = 0\n",
    "    rate_limit_delay = 1.5\n",
    "    \n",
    "    for i, app_id in enumerate(remaining_app_ids):\n",
    "        # Rate limiting\n",
    "        current_time = time.time()\n",
    "        time_since_last_request = current_time - last_request_time\n",
    "        if time_since_last_request < rate_limit_delay:\n",
    "            time.sleep(rate_limit_delay - time_since_last_request)\n",
    "        \n",
    "        data = fetch_steam_store_app_details(app_id)\n",
    "        last_request_time = time.time()\n",
    "        \n",
    "        if data:\n",
    "            app_data = {\n",
    "                'appid': data.get('steam_appid'),\n",
    "                'name': data.get('name'),\n",
    "                'languages': data.get('supported_languages'),\n",
    "                'metacritic': data.get('metacritic', {}).get('score') if isinstance(data.get('metacritic'), dict) else data.get('metacritic'),\n",
    "                'genres': ','.join([g['description'] for g in data.get('genres', [])]) if data.get('genres') else None,\n",
    "                'release_date': data.get('release_date', {}).get('date'),\n",
    "                'required_age': data.get('required_age'),\n",
    "                'dlc': ','.join(map(str, data.get('dlc', []))) if data.get('dlc') else None\n",
    "            }\n",
    "            steamstore_data.append(app_data)\n",
    "        \n",
    "        # Save progress at intervals\n",
    "        if (i + 1) % save_interval == 0 or (i + 1) == total_remaining:\n",
    "            df = pd.DataFrame(steamstore_data)\n",
    "            # Ensure no duplicates when saving\n",
    "            df = df.drop_duplicates(subset=['appid'], keep='last')\n",
    "            df.to_csv(output_filename, index=False)\n",
    "            print(f\"\\rProcessed {i + 1}/{total_remaining} remaining games. Total unique games: {len(df)}\", end=\"\", flush=True)\n",
    "    \n",
    "    print(\"\\nData collection completed.\")\n",
    "    return pd.DataFrame(steamstore_data)\n",
    "\n",
    "# Usage\n",
    "app_ids = steamspy_df['appid'].tolist()\n",
    "steamstore_df = fetch_all_steam_store_data(app_ids, output_filename=\"data/steamstore_data.csv\", save_interval=100)\n",
    "print(\"Saved steamstore_data.csv\")"
   ]
  }
 ],
 "metadata": {
  "kernelspec": {
   "display_name": "base",
   "language": "python",
   "name": "python3"
  },
  "language_info": {
   "codemirror_mode": {
    "name": "ipython",
    "version": 3
   },
   "file_extension": ".py",
   "mimetype": "text/x-python",
   "name": "python",
   "nbconvert_exporter": "python",
   "pygments_lexer": "ipython3",
   "version": "3.12.7"
  }
 },
 "nbformat": 4,
 "nbformat_minor": 2
}
