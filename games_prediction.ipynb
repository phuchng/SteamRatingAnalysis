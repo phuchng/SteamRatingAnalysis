{
 "cells": [
  {
   "cell_type": "markdown",
   "metadata": {},
   "source": [
    "# Data Collection"
   ]
  },
  {
   "cell_type": "markdown",
   "metadata": {},
   "source": [
    "### Import neccessary libraries"
   ]
  },
  {
   "cell_type": "code",
   "execution_count": 1,
   "metadata": {},
   "outputs": [],
   "source": [
    "import requests\n",
    "import pandas as pd\n",
    "import time"
   ]
  },
  {
   "cell_type": "markdown",
   "metadata": {},
   "source": [
    "## 1. Getting the id and names of Steam games \n",
    "\n",
    "Since the official steam API returns all applications, not just games, and don't filter for spam apps, we will use SteamSpy as an alternative.\n"
   ]
  },
  {
   "cell_type": "code",
   "execution_count": 2,
   "metadata": {},
   "outputs": [
    {
     "name": "stdout",
     "output_type": "stream",
     "text": [
      "Saved steam_games_list.csv with 1000 games.\n"
     ]
    }
   ],
   "source": [
    "games_list = []\n",
    "url = 'https://steamspy.com/api.php?request=all'\n",
    "\n",
    "# Send a request to the API\n",
    "response = requests.get(url)\n",
    "data = response.json()\n",
    "\n",
    "# Extract game IDs and names\n",
    "for appid, game_info in data.items():\n",
    "    games_list.append({\n",
    "        'appid': int(appid),\n",
    "        'name': game_info['name']\n",
    "    })\n",
    "\n",
    "# Convert to DataFrame\n",
    "games_df = pd.DataFrame(games_list)\n",
    "\n",
    "games_df = games_df.head(5000)\n",
    "\n",
    "# Save to CSV\n",
    "games_df.to_csv('steam_games_list.csv', index=False)\n",
    "\n",
    "print(\"Saved steam_games_list.csv with {} games.\".format(len(games_df)))"
   ]
  }
 ],
 "metadata": {
  "kernelspec": {
   "display_name": "ml-env",
   "language": "python",
   "name": "python3"
  },
  "language_info": {
   "codemirror_mode": {
    "name": "ipython",
    "version": 3
   },
   "file_extension": ".py",
   "mimetype": "text/x-python",
   "name": "python",
   "nbconvert_exporter": "python",
   "pygments_lexer": "ipython3",
   "version": "3.11.7"
  }
 },
 "nbformat": 4,
 "nbformat_minor": 2
}
