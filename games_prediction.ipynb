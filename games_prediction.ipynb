{
 "cells": [
  {
   "cell_type": "markdown",
   "metadata": {},
   "source": [
    "**21127671 - Nguyễn Hoàng Phúc**\n",
    "\n",
    "## **Steam Games Analysis Project**\n",
    "\n",
    "\n",
    "### Import neccessary libraries"
   ]
  },
  {
   "cell_type": "code",
   "execution_count": null,
   "metadata": {},
   "outputs": [
    {
     "name": "stdout",
     "output_type": "stream",
     "text": [
      "Requirement already satisfied: pandas in c:\\users\\phuc\\miniconda3w\\envs\\ml-env\\lib\\site-packages (2.2.3)\n",
      "Requirement already satisfied: numpy in c:\\users\\phuc\\miniconda3w\\envs\\ml-env\\lib\\site-packages (1.26.3)\n",
      "Requirement already satisfied: scikit-learn in c:\\users\\phuc\\miniconda3w\\envs\\ml-env\\lib\\site-packages (1.5.2)\n",
      "Requirement already satisfied: seaborn in c:\\users\\phuc\\miniconda3w\\envs\\ml-env\\lib\\site-packages (0.13.2)\n",
      "Requirement already satisfied: matplotlib in c:\\users\\phuc\\miniconda3w\\envs\\ml-env\\lib\\site-packages (3.8.2)\n",
      "Requirement already satisfied: aiohttp in c:\\users\\phuc\\miniconda3w\\envs\\ml-env\\lib\\site-packages (3.11.2)\n",
      "Requirement already satisfied: nest_asyncio in c:\\users\\phuc\\miniconda3w\\envs\\ml-env\\lib\\site-packages (1.6.0)\n",
      "Requirement already satisfied: python-dateutil>=2.8.2 in c:\\users\\phuc\\miniconda3w\\envs\\ml-env\\lib\\site-packages (from pandas) (2.8.2)\n",
      "Requirement already satisfied: pytz>=2020.1 in c:\\users\\phuc\\miniconda3w\\envs\\ml-env\\lib\\site-packages (from pandas) (2024.1)\n",
      "Requirement already satisfied: tzdata>=2022.7 in c:\\users\\phuc\\miniconda3w\\envs\\ml-env\\lib\\site-packages (from pandas) (2024.2)\n",
      "Requirement already satisfied: scipy>=1.6.0 in c:\\users\\phuc\\miniconda3w\\envs\\ml-env\\lib\\site-packages (from scikit-learn) (1.14.1)\n",
      "Requirement already satisfied: joblib>=1.2.0 in c:\\users\\phuc\\miniconda3w\\envs\\ml-env\\lib\\site-packages (from scikit-learn) (1.4.2)\n",
      "Requirement already satisfied: threadpoolctl>=3.1.0 in c:\\users\\phuc\\miniconda3w\\envs\\ml-env\\lib\\site-packages (from scikit-learn) (3.5.0)\n",
      "Requirement already satisfied: contourpy>=1.0.1 in c:\\users\\phuc\\miniconda3w\\envs\\ml-env\\lib\\site-packages (from matplotlib) (1.2.0)\n",
      "Requirement already satisfied: cycler>=0.10 in c:\\users\\phuc\\miniconda3w\\envs\\ml-env\\lib\\site-packages (from matplotlib) (0.12.1)\n",
      "Requirement already satisfied: fonttools>=4.22.0 in c:\\users\\phuc\\miniconda3w\\envs\\ml-env\\lib\\site-packages (from matplotlib) (4.49.0)\n",
      "Requirement already satisfied: kiwisolver>=1.3.1 in c:\\users\\phuc\\miniconda3w\\envs\\ml-env\\lib\\site-packages (from matplotlib) (1.4.5)\n",
      "Requirement already satisfied: packaging>=20.0 in c:\\users\\phuc\\miniconda3w\\envs\\ml-env\\lib\\site-packages (from matplotlib) (23.2)\n",
      "Requirement already satisfied: pillow>=8 in c:\\users\\phuc\\miniconda3w\\envs\\ml-env\\lib\\site-packages (from matplotlib) (10.2.0)\n",
      "Requirement already satisfied: pyparsing>=2.3.1 in c:\\users\\phuc\\miniconda3w\\envs\\ml-env\\lib\\site-packages (from matplotlib) (3.1.1)\n",
      "Requirement already satisfied: aiohappyeyeballs>=2.3.0 in c:\\users\\phuc\\miniconda3w\\envs\\ml-env\\lib\\site-packages (from aiohttp) (2.4.3)\n",
      "Requirement already satisfied: aiosignal>=1.1.2 in c:\\users\\phuc\\miniconda3w\\envs\\ml-env\\lib\\site-packages (from aiohttp) (1.3.1)\n",
      "Requirement already satisfied: attrs>=17.3.0 in c:\\users\\phuc\\miniconda3w\\envs\\ml-env\\lib\\site-packages (from aiohttp) (23.2.0)\n",
      "Requirement already satisfied: frozenlist>=1.1.1 in c:\\users\\phuc\\miniconda3w\\envs\\ml-env\\lib\\site-packages (from aiohttp) (1.5.0)\n",
      "Requirement already satisfied: multidict<7.0,>=4.5 in c:\\users\\phuc\\miniconda3w\\envs\\ml-env\\lib\\site-packages (from aiohttp) (6.1.0)\n",
      "Requirement already satisfied: propcache>=0.2.0 in c:\\users\\phuc\\miniconda3w\\envs\\ml-env\\lib\\site-packages (from aiohttp) (0.2.0)\n",
      "Requirement already satisfied: yarl<2.0,>=1.17.0 in c:\\users\\phuc\\miniconda3w\\envs\\ml-env\\lib\\site-packages (from aiohttp) (1.17.1)\n",
      "Requirement already satisfied: six>=1.5 in c:\\users\\phuc\\miniconda3w\\envs\\ml-env\\lib\\site-packages (from python-dateutil>=2.8.2->pandas) (1.16.0)\n",
      "Requirement already satisfied: idna>=2.0 in c:\\users\\phuc\\miniconda3w\\envs\\ml-env\\lib\\site-packages (from yarl<2.0,>=1.17.0->aiohttp) (3.6)\n",
      "Note: you may need to restart the kernel to use updated packages.\n"
     ]
    }
   ],
   "source": [
    "import pandas as pd\n",
    "import numpy as np\n",
    "from sklearn.preprocessing import StandardScaler\n",
    "import seaborn as sns\n",
    "import matplotlib.pyplot as plt\n",
    "import time\n",
    "import asyncio\n",
    "import json\n",
    "from typing import List, Dict\n",
    "import requests\n",
    "import aiohttp  # Async HTTP requests\n",
    "import nest_asyncio # Nested async loops in Jupyter"
   ]
  },
  {
   "cell_type": "markdown",
   "metadata": {},
   "source": [
    "## 1. Data Collection\n",
    "\n",
    "### 1.1 SteamSpy API Data collection and processing\n",
    "\n",
    "Since the official steam API returns all applications, not just games, and don't filter for spam apps, we will use SteamSpy as an alternative to get a quality list of games and information not found on the official API.\n"
   ]
  },
  {
   "cell_type": "code",
   "execution_count": 140,
   "metadata": {},
   "outputs": [],
   "source": [
    "nest_asyncio.apply()\n",
    "\n",
    "async def fetch_steamspy_page(session, page):\n",
    "    # Fetch data from a single SteamSpy page\n",
    "    base_url = 'https://steamspy.com/api.php'\n",
    "    params = {'request': 'all', 'page': page}\n",
    "    try:\n",
    "        async with session.get(base_url, params=params) as response:\n",
    "            if response.status == 200:\n",
    "                return list((await response.json()).values())\n",
    "            else:\n",
    "                print(f\"SteamSpy API error on page {page}: HTTP {response.status}\")\n",
    "                return []\n",
    "    except Exception as e:\n",
    "        print(f\"SteamSpy API exception on page {page}: {e}\")\n",
    "        return []\n",
    "\n",
    "async def fetch_all_steamspy_data(max_pages):\n",
    "    # Fetch data from multiple SteamSpy pages asynchronously for better runtime\n",
    "    async with aiohttp.ClientSession() as session:\n",
    "        tasks = [fetch_steamspy_page(session, page) for page in range(max_pages)]\n",
    "        start_time = time.time()\n",
    "        results = await asyncio.gather(*tasks)\n",
    "        end_time = time.time()\n",
    "        all_games = [game for page_games in results for game in page_games]\n",
    "        print(f\"Fetched {len(all_games)} games from SteamSpy in {end_time - start_time:.2f} seconds\")\n",
    "        return pd.DataFrame(all_games)\n",
    "\n",
    "def get_steamspy_data(max_pages):\n",
    "    # Manage asyncio event loop and call the fetch all function\n",
    "    try:\n",
    "        loop = asyncio.get_event_loop()\n",
    "    except RuntimeError:\n",
    "        loop = asyncio.new_event_loop()\n",
    "        asyncio.set_event_loop(loop)\n",
    "    return loop.run_until_complete(fetch_all_steamspy_data(max_pages))\n",
    "\n",
    "max_pages_steamspy = 10 # 1000 games per page\n",
    "steamspy_df = get_steamspy_data(max_pages_steamspy)\n",
    "steamspy_df.to_csv('steamspy_data.csv', index=False)\n",
    "print(\"Saved steamspy_data.csv\")"
   ]
  },
  {
   "cell_type": "markdown",
   "metadata": {},
   "source": [
    "### 1.2 Steam API Data Collection and Processing\n",
    "\n",
    "Since most Vietnamese ISPs blocked Steam DNS, a VPN is required to scrape data from Steam."
   ]
  },
  {
   "cell_type": "code",
   "execution_count": 141,
   "metadata": {},
   "outputs": [],
   "source": [
    "def fetch_steam_store_app_details(app_id):\n",
    "    # Fetch app details from Steam Store API\n",
    "    url = f\"https://store.steampowered.com/api/appdetails?appids={app_id}\"\n",
    "    try:\n",
    "        response = requests.get(url)\n",
    "        response.raise_for_status()\n",
    "        data = response.json()[str(app_id)]\n",
    "        if data.get('success') and 'data' in data:\n",
    "            return data['data']\n",
    "        else:\n",
    "            print(f\"No data found for app ID {app_id} in Steam Store. Details: {data}\")\n",
    "            return None\n",
    "    except requests.exceptions.RequestException as e:\n",
    "        print(f\"Steam Store API error for app ID {app_id}: {e}\")\n",
    "        return None\n",
    "\n",
    "def fetch_all_steam_store_data(app_ids):\n",
    "    # Fetch data for multiple apps from Steam Store API\n",
    "    steamstore_data = []\n",
    "    total_apps = len(app_ids)\n",
    "    for i, app_id in enumerate(app_ids):\n",
    "        data = get_steam_store_app_details(app_id)\n",
    "        if data:\n",
    "            steamstore_data.append({\n",
    "                'appid': data.get('steam_appid'),\n",
    "                'name': data.get('name'),\n",
    "                'languages': data.get('supported_languages'),\n",
    "                'metacritic': data.get('metacritic'),\n",
    "                'genres': data.get('genres')\n",
    "            })\n",
    "        if (i + 1) % 100 == 0 or (i + 1) == total_apps:\n",
    "            print(f\"\\rProcessed {i + 1}/{total_apps} games from Steam Store\", end=\"\", flush=True)\n",
    "        time.sleep(1.5)  # API rate limits\n",
    "    print() \n",
    "    return pd.DataFrame(steamstore_data)\n",
    "\n",
    "app_ids = steamspy_df['appid'].tolist()\n",
    "\n",
    "# Because of Steam rate limits, 10000 games take 4 hours to fetch so function call is commented out\n",
    "\n",
    "# steamstore_df = get_all_steam_store_data(app_ids)\n",
    "# steamstore_df.to_csv(\"steamstore_data.csv\", index=False)\n",
    "# print(\"Saved steamstore_data.csv\")"
   ]
  },
  {
   "cell_type": "markdown",
   "metadata": {},
   "source": [
    "## 2. Data Preprocessing\n"
   ]
  },
  {
   "cell_type": "code",
   "execution_count": 142,
   "metadata": {},
   "outputs": [
    {
     "name": "stdout",
     "output_type": "stream",
     "text": [
      "     appid                              name         developer  \\\n",
      "0      570                            Dota 2             Valve   \n",
      "1      730  Counter-Strike: Global Offensive             Valve   \n",
      "2   578080               PUBG: BATTLEGROUNDS  PUBG Corporation   \n",
      "3  1172470                      Apex Legends           Respawn   \n",
      "4      440                   Team Fortress 2             Valve   \n",
      "\n",
      "         publisher  score_rank  positive  negative  userscore  \\\n",
      "0            Valve         NaN   1922076    434033          0   \n",
      "1            Valve         NaN   7300141   1096624          0   \n",
      "2    KRAFTON, Inc.         NaN   1448418   1011202          0   \n",
      "3  Electronic Arts         NaN    651799    311422          0   \n",
      "4            Valve         NaN    995536    128698          0   \n",
      "\n",
      "                       owners  average_forever  average_2weeks  \\\n",
      "0  200,000,000 .. 500,000,000            41092            1541   \n",
      "1  100,000,000 .. 200,000,000            31730             755   \n",
      "2  100,000,000 .. 200,000,000            21065             846   \n",
      "3   50,000,000 .. 100,000,000             9614             585   \n",
      "4   50,000,000 .. 100,000,000             9705             927   \n",
      "\n",
      "   median_forever  median_2weeks  price  initialprice  discount     ccu  \n",
      "0             838            835      0             0         0  609396  \n",
      "1            5811            318      0             0         0  978223  \n",
      "2            5175            287      0             0         0  503511  \n",
      "3             833            154      0             0         0  120637  \n",
      "4             340            168      0             0         0   59256  \n"
     ]
    }
   ],
   "source": [
    "steamspy_df = pd.read_csv('steamspy_data.csv')\n",
    "steamstore_df = pd.read_csv('steamstore_data.csv')\n",
    "\n",
    "print(steamspy_df.head())"
   ]
  },
  {
   "cell_type": "code",
   "execution_count": 143,
   "metadata": {},
   "outputs": [
    {
     "name": "stdout",
     "output_type": "stream",
     "text": [
      "     appid                 name  \\\n",
      "0      570               Dota 2   \n",
      "1      730     Counter-Strike 2   \n",
      "2   578080  PUBG: BATTLEGROUNDS   \n",
      "3  1172470        Apex Legends™   \n",
      "4      440      Team Fortress 2   \n",
      "\n",
      "                                           languages  \\\n",
      "0  Bulgarian, Czech, Danish, Dutch, English<stron...   \n",
      "1  Czech, Danish, Dutch, English<strong>*</strong...   \n",
      "2  English, Korean, Simplified Chinese, French, G...   \n",
      "3  English<strong>*</strong>, French<strong>*</st...   \n",
      "4  English<strong>*</strong>, Danish, Dutch, Finn...   \n",
      "\n",
      "                                          metacritic  \\\n",
      "0  {'score': 90, 'url': 'https://www.metacritic.c...   \n",
      "1                                                NaN   \n",
      "2                                                NaN   \n",
      "3  {'score': 88, 'url': 'https://www.metacritic.c...   \n",
      "4  {'score': 92, 'url': 'https://www.metacritic.c...   \n",
      "\n",
      "                                              genres  \n",
      "0  [{'id': '1', 'description': 'Action'}, {'id': ...  \n",
      "1  [{'id': '1', 'description': 'Action'}, {'id': ...  \n",
      "2  [{'id': '1', 'description': 'Action'}, {'id': ...  \n",
      "3  [{'id': '1', 'description': 'Action'}, {'id': ...  \n",
      "4  [{'id': '1', 'description': 'Action'}, {'id': ...  \n"
     ]
    }
   ],
   "source": [
    "print(steamstore_df.head())"
   ]
  },
  {
   "cell_type": "code",
   "execution_count": 144,
   "metadata": {},
   "outputs": [
    {
     "name": "stdout",
     "output_type": "stream",
     "text": [
      "appid                 0\n",
      "name                  0\n",
      "developer            29\n",
      "publisher            38\n",
      "score_rank         9050\n",
      "positive              0\n",
      "negative              0\n",
      "userscore             0\n",
      "owners                0\n",
      "average_forever       0\n",
      "average_2weeks        0\n",
      "median_forever        0\n",
      "median_2weeks         0\n",
      "price                 0\n",
      "initialprice          0\n",
      "discount              0\n",
      "ccu                   0\n",
      "languages             2\n",
      "metacritic         6643\n",
      "genres               24\n",
      "dtype: int64\n"
     ]
    }
   ],
   "source": [
    "merged_df = pd.merge(steamspy_df, steamstore_df, on=['appid', 'name'], how='inner')\n",
    "print(merged_df.isnull().sum())\n",
    "merged_df = merged_df.dropna(subset=['languages','metacritic','genres'])"
   ]
  },
  {
   "cell_type": "code",
   "execution_count": 145,
   "metadata": {},
   "outputs": [
    {
     "name": "stdout",
     "output_type": "stream",
     "text": [
      "    appid                name  metacritic  median_forever  price  languages  \\\n",
      "0     570              Dota 2          90             838      0         28   \n",
      "2     440     Team Fortress 2          92             340      0         27   \n",
      "6  271590  Grand Theft Auto V          96            6253   2430         13   \n",
      "7     550       Left 4 Dead 2          89             492    200         28   \n",
      "9  230410            Warframe          69             455      0         14   \n",
      "\n",
      "   genre_indie  genre_action  genre_casual  genre_action-adventure  \\\n",
      "0            0             1             0                       0   \n",
      "2            0             1             0                       0   \n",
      "6            0             1             0                       0   \n",
      "7            0             1             0                       0   \n",
      "9            0             1             0                       0   \n",
      "\n",
      "   genre_simulation  genre_rpg  genre_strategy  genre_sports  genre_racing  \\\n",
      "0                 0          0               1             0             0   \n",
      "2                 0          0               0             0             0   \n",
      "6                 0          0               0             0             0   \n",
      "7                 0          0               0             0             0   \n",
      "9                 0          1               0             0             0   \n",
      "\n",
      "   genre_massively multiplayer  \n",
      "0                            0  \n",
      "2                            0  \n",
      "6                            0  \n",
      "7                            0  \n",
      "9                            0  \n"
     ]
    }
   ],
   "source": [
    "# Function to extract the Metacritic score from json string\n",
    "def extract_metacritic_score(metacritic):\n",
    "    if pd.isnull(metacritic):\n",
    "        return None\n",
    "    try:\n",
    "        if isinstance(metacritic, str):\n",
    "            metacritic = eval(metacritic)\n",
    "        return metacritic.get('score')\n",
    "    except:\n",
    "        return None\n",
    "\n",
    "# Function to count the number of languages\n",
    "def count_languages(languages_str):\n",
    "    if pd.isnull(languages_str) or not isinstance(languages_str, str):\n",
    "        return 0\n",
    "    languages_str = re.sub('<[^<]+?>', '', languages_str)\n",
    "    return len(languages_str.split(','))\n",
    "\n",
    "# Extract genres into a list\n",
    "def extract_genres(genre_list):\n",
    "    if pd.isnull(genre_list):\n",
    "        return []\n",
    "    try:\n",
    "        # Convert string representation to list if necessary\n",
    "        if isinstance(genre_list, str):\n",
    "            genre_list = eval(genre_list)\n",
    "        return [genre['description'].lower() for genre in genre_list]\n",
    "    except:\n",
    "        return []\n",
    "    \n",
    "# Apply the functions\n",
    "merged_df['metacritic'] = merged_df['metacritic'].apply(extract_metacritic_score)\n",
    "merged_df['languages'] = merged_df['languages'].apply(count_languages)\n",
    "\n",
    "merged_df['genre_list'] = merged_df['genres'].apply(extract_genres)\n",
    "# List of top genres to create boolean columns for\n",
    "top_genres = ['indie', 'action', 'casual', 'action-adventure', 'simulation',\n",
    "              'rpg', 'strategy', 'sports', 'racing', 'massively multiplayer']\n",
    "# Create boolean columns for each top genre\n",
    "for genre in top_genres:\n",
    "    merged_df[f'genre_{genre}'] = merged_df['genre_list'].apply(lambda x: int(genre in x))\n",
    "    \n",
    "selected_columns = ['appid', 'name', 'metacritic', 'median_forever', 'price', 'languages']\n",
    "selected_columns += [f'genre_{genre}' for genre in top_genres]\n",
    "# Create the final DataFrame\n",
    "processed_df = merged_df[selected_columns]\n",
    "print(processed_df.head())\n"
   ]
  }
 ],
 "metadata": {
  "kernelspec": {
   "display_name": "ml-env",
   "language": "python",
   "name": "python3"
  },
  "language_info": {
   "codemirror_mode": {
    "name": "ipython",
    "version": 3
   },
   "file_extension": ".py",
   "mimetype": "text/x-python",
   "name": "python",
   "nbconvert_exporter": "python",
   "pygments_lexer": "ipython3",
   "version": "3.11.7"
  }
 },
 "nbformat": 4,
 "nbformat_minor": 2
}
